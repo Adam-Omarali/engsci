{
 "cells": [
  {
   "cell_type": "markdown",
   "metadata": {},
   "source": [
    "## Problem Solving with Recursion"
   ]
  },
  {
   "cell_type": "code",
   "execution_count": 3,
   "metadata": {},
   "outputs": [],
   "source": [
    "#Shallow Copy\n",
    "#Lists are different (memory address) but elements are aliases\n",
    "L = [[[1, 2], 5], 2]\n",
    "L2 = L[:]\n",
    "#Changing L[0] is not the same as L2[0]\n",
    "#But changing anything deeper, L[0] is the same as changing the elements L2[0]\n",
    "\n",
    "L3 = [L[0][:], L[1]] #manual deep copy since we know the structure of L\n"
   ]
  },
  {
   "cell_type": "code",
   "execution_count": null,
   "metadata": {},
   "outputs": [],
   "source": [
    "#general deepcopy\n",
    "\n",
    "def deepcopy(L):\n",
    "    #if not List\n",
    "    if not (type(L) == list):\n",
    "        return L\n",
    "\n",
    "    res = []\n",
    "    #go element by element and make a deep copy of every element\n",
    "    for e in L:\n",
    "        if type(e) == list:\n",
    "            res.append(deepcopy(e))\n",
    "        else:\n",
    "            res.append(e)\n",
    "\n",
    "    return res"
   ]
  },
  {
   "cell_type": "code",
   "execution_count": null,
   "metadata": {},
   "outputs": [],
   "source": [
    "#list all possible strings of length k given a set of letters\n",
    "def all_strings(k, alphabet):\n",
    "    if k == 0:\n",
    "        return [\"\"]\n",
    "\n",
    "    ret = []\n",
    "    strings = all_strings(k - 1, alphabet)\n",
    "    for letter in alphabet:\n",
    "        for string in strings:\n",
    "            ret.append(letter + string)\n",
    "\n",
    "    return ret\n",
    "\n",
    "#Complexity Analysis\n",
    "# k -> k-1 -> k-2\n",
    "\n",
    "# for letter in alphabet -> len(alphabet) = n\n",
    "    # for string in strings -> num of strings of len k-1, for each k-1 there are n^(k - 1)\n",
    "#so the whole loop for a given k is n * n^k * n^-1 = n^k\n",
    "\n",
    "#k -> k-1 -> k-2\n",
    "# n^k + n^k-1 + n^k-2 + ... + n^0 = geometric series"
   ]
  },
  {
   "cell_type": "markdown",
   "metadata": {},
   "source": [
    "Can thin about recursion as:\n",
    "- Bottom Up\n",
    "    - What happens to all strings with k=0, k=1 ...\n",
    "- Top Down\n",
    "    - If I can solve the k - 1 problem, then I can solve the whole problem"
   ]
  },
  {
   "cell_type": "code",
   "execution_count": 1,
   "metadata": {},
   "outputs": [
    {
     "name": "stdout",
     "output_type": "stream",
     "text": [
      "[1, [2, 3], 3]\n",
      "[1, [2, 3], 3]\n"
     ]
    }
   ],
   "source": [
    "def f(L):\n",
    "    L[1] = L[1:3]\n",
    "    print(L)\n",
    "\n",
    "L = [1, 2, 3]\n",
    "f(L)\n",
    "print(L)"
   ]
  },
  {
   "cell_type": "code",
   "execution_count": 3,
   "metadata": {},
   "outputs": [
    {
     "name": "stdout",
     "output_type": "stream",
     "text": [
      "['abc', 123]\n",
      "abc\n"
     ]
    }
   ],
   "source": [
    "def f(s):\n",
    "    s = [s]\n",
    "    s.append(123)\n",
    "    print(s)\n",
    "\n",
    "a = \"abc\"\n",
    "f(a)\n",
    "print(a)"
   ]
  },
  {
   "cell_type": "code",
   "execution_count": 3,
   "metadata": {},
   "outputs": [
    {
     "name": "stdout",
     "output_type": "stream",
     "text": [
      "17\n",
      "22\n"
     ]
    }
   ],
   "source": [
    "def hash(s, tableSize):\n",
    "    ret = 0\n",
    "    for i in range(len(s)):\n",
    "        ret += (ord(s[i]) * 37 ** i) % tableSize\n",
    "        \n",
    "    return ret\n",
    "\n",
    "print(hash('adam', 10))\n",
    "print(hash('jump', 10))"
   ]
  },
  {
   "cell_type": "code",
   "execution_count": null,
   "metadata": {},
   "outputs": [],
   "source": []
  }
 ],
 "metadata": {
  "kernelspec": {
   "display_name": "ml",
   "language": "python",
   "name": "python3"
  },
  "language_info": {
   "codemirror_mode": {
    "name": "ipython",
    "version": 3
   },
   "file_extension": ".py",
   "mimetype": "text/x-python",
   "name": "python",
   "nbconvert_exporter": "python",
   "pygments_lexer": "ipython3",
   "version": "3.11.8"
  }
 },
 "nbformat": 4,
 "nbformat_minor": 2
}
