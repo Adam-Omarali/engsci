{
 "cells": [
  {
   "cell_type": "code",
   "execution_count": 3,
   "metadata": {},
   "outputs": [],
   "source": [
    "import pandas as pd\n",
    "import numpy as np"
   ]
  },
  {
   "cell_type": "code",
   "execution_count": 4,
   "metadata": {},
   "outputs": [],
   "source": [
    "my_img_conv = 89.91 / 114.15\n",
    "pixel_to_micrometer = 200/461 * my_img_conv\n",
    "dl = 6 * 2 * pixel_to_micrometer\n",
    "dt = 0.1"
   ]
  },
  {
   "cell_type": "code",
   "execution_count": 5,
   "metadata": {},
   "outputs": [
    {
     "data": {
      "text/plain": [
       "(0.37269920374691157,\n",
       " 0.03538202155637682,\n",
       " 0.085542385747453,\n",
       " 0.03538020442686821)"
      ]
     },
     "execution_count": 5,
     "metadata": {},
     "output_type": "execute_result"
    }
   ],
   "source": [
    "def process(path, exposure):\n",
    "    df = pd.read_csv(path)\n",
    "    velocity = df[\"Velocity (μm/ms)\"].sort_values()\n",
    "    length = df[\"Length (μm)\"].sort_values()\n",
    "    uncertainty = np.mean(np.array(velocity)*np.sqrt((dt/exposure)**2 + \n",
    "                    (dl/np.array(length))**2))\n",
    "    return np.mean(velocity), uncertainty\n",
    "\n",
    "\n",
    "#sharp\n",
    "after = process(\"csvs/converge_after_115.9.csv\", 115.9)\n",
    "before = process(\"csvs/converge_before_115.9.csv\", 115.9)\n",
    "\n",
    "before[0], before[1], after[0], after[1]"
   ]
  },
  {
   "cell_type": "code",
   "execution_count": 19,
   "metadata": {},
   "outputs": [
    {
     "data": {
      "text/plain": [
       "(0.17554913165628327,\n",
       " 0.03538051953438469,\n",
       " 0.3229795080519958,\n",
       " 0.0353814579785945)"
      ]
     },
     "execution_count": 19,
     "metadata": {},
     "output_type": "execute_result"
    }
   ],
   "source": [
    "#gradual\n",
    "after = process(\"csvs/venturi115.9msafter.csv\", 115.9)\n",
    "before = process(\"csvs/venturi115.9msbefore.csv\", 115.9)\n",
    "\n",
    "before[0], before[1], after[0], after[1]"
   ]
  },
  {
   "cell_type": "code",
   "execution_count": null,
   "metadata": {},
   "outputs": [
    {
     "data": {
      "text/plain": [
       "(0.3446428751241482,\n",
       " 0.06357695221611401,\n",
       " 0.35700272360386354,\n",
       " 0.0635770941564047)"
      ]
     },
     "execution_count": 6,
     "metadata": {},
     "output_type": "execute_result"
    }
   ],
   "source": [
    "pixel_to_micrometer = 200/461\n",
    "\n",
    "#smooth\n",
    "left = process(\"csvs/bend_64.5_smooth_left.csv\", 64.5)\n",
    "right = process(\"csvs/bend_64.5_smooth_right.csv\", 64.5)\n",
    "left[0], left[1], right[0], right[1]"
   ]
  },
  {
   "cell_type": "code",
   "execution_count": 7,
   "metadata": {},
   "outputs": [
    {
     "data": {
      "text/plain": [
       "(0.30679479296188455,\n",
       " 0.06357641298380333,\n",
       " 0.25628071419928017,\n",
       " 0.06357580398967827)"
      ]
     },
     "execution_count": 7,
     "metadata": {},
     "output_type": "execute_result"
    }
   ],
   "source": [
    "pixel_to_micrometer = 200/461\n",
    "\n",
    "top = process(\"csvs/bend_64.5_before.csv\", 64.5)\n",
    "bottom = process(\"csvs/bend_64.5_after.csv\", 64.5)\n",
    "top[0], top[1], bottom[0], bottom[1]"
   ]
  },
  {
   "cell_type": "code",
   "execution_count": 10,
   "metadata": {},
   "outputs": [
    {
     "data": {
      "text/plain": [
       "0.56"
      ]
     },
     "execution_count": 10,
     "metadata": {},
     "output_type": "execute_result"
    }
   ],
   "source": [
    "28 / 50"
   ]
  },
  {
   "cell_type": "code",
   "execution_count": 11,
   "metadata": {},
   "outputs": [
    {
     "data": {
      "text/plain": [
       "0.10339068187329482"
      ]
     },
     "execution_count": 11,
     "metadata": {},
     "output_type": "execute_result"
    }
   ],
   "source": [
    "0.56 * np.sqrt((0.1 / 50)**2 + (6 * 2 / 65)**2)"
   ]
  },
  {
   "cell_type": "code",
   "execution_count": 12,
   "metadata": {},
   "outputs": [],
   "source": [
    "a2 = 590\n",
    "delta_a2 = 30\n",
    "a1 = 186\n",
    "delta_a1 = 30\n",
    "u2 = 0.17\n",
    "delta_u2 = 0.03\n",
    "u1 = a2 / a1 * u2"
   ]
  },
  {
   "cell_type": "code",
   "execution_count": 13,
   "metadata": {},
   "outputs": [
    {
     "data": {
      "text/plain": [
       "0.539247311827957"
      ]
     },
     "execution_count": 13,
     "metadata": {},
     "output_type": "execute_result"
    }
   ],
   "source": [
    "u1"
   ]
  },
  {
   "cell_type": "code",
   "execution_count": 18,
   "metadata": {},
   "outputs": [
    {
     "data": {
      "text/plain": [
       "2.2131586863127444"
      ]
     },
     "execution_count": 18,
     "metadata": {},
     "output_type": "execute_result"
    }
   ],
   "source": [
    "np.sqrt((1/a1 * delta_a2) ** 2 + (a2/a1**2 * delta_a1) ** 2) * a2 / a1"
   ]
  },
  {
   "cell_type": "code",
   "execution_count": 17,
   "metadata": {},
   "outputs": [],
   "source": [
    "a2 = 1040\n",
    "a1 = 247"
   ]
  },
  {
   "cell_type": "code",
   "execution_count": 19,
   "metadata": {},
   "outputs": [
    {
     "data": {
      "text/plain": [
       "4.2105263157894735"
      ]
     },
     "execution_count": 19,
     "metadata": {},
     "output_type": "execute_result"
    }
   ],
   "source": [
    "a2/a1"
   ]
  },
  {
   "cell_type": "code",
   "execution_count": 20,
   "metadata": {},
   "outputs": [
    {
     "data": {
      "text/plain": [
       "4.352941176470588"
      ]
     },
     "execution_count": 20,
     "metadata": {},
     "output_type": "execute_result"
    }
   ],
   "source": [
    "0.37/0.085"
   ]
  },
  {
   "cell_type": "code",
   "execution_count": null,
   "metadata": {},
   "outputs": [],
   "source": []
  }
 ],
 "metadata": {
  "kernelspec": {
   "display_name": "base",
   "language": "python",
   "name": "python3"
  },
  "language_info": {
   "codemirror_mode": {
    "name": "ipython",
    "version": 3
   },
   "file_extension": ".py",
   "mimetype": "text/x-python",
   "name": "python",
   "nbconvert_exporter": "python",
   "pygments_lexer": "ipython3",
   "version": "3.12.2"
  }
 },
 "nbformat": 4,
 "nbformat_minor": 2
}
